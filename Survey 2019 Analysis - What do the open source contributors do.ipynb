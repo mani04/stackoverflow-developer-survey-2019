{
 "cells": [
  {
   "cell_type": "markdown",
   "metadata": {},
   "source": [
    "# Who are the open source contributors?"
   ]
  },
  {
   "cell_type": "markdown",
   "metadata": {},
   "source": [
    "## Introduction\n",
    "\n",
    "Open source is everywhere. We developers use a very large number of open source packages and tools every single day. It is impossible to imagine a world without open source today, without all the amazing software that we use in our projects.\n",
    "\n",
    "Is there a way to find out who these open source contributors are, and what kind of profile they have?\n",
    "\n",
    "Stackoverflow has been collecting data from thousands of developers and publish survey results that give interesting insights into the overall trends like tools and technologies, salaries of developers, etc. They also collected information on whether a survey respondent contributes to open source software. This data on open source contributions is available for years 2019, 2018 and 2017.\n",
    "\n",
    "While Stack Overflow's [survey insights (2019)](https://insights.stackoverflow.com/survey/2019) does not provide any observed pattern on those developers who contribute to open source, we can do it ourselves using the raw data. Let's look at open source contributors by:\n",
    "\n",
    "1. Operating System that they use\n",
    "2. Salary\n",
    "3. Career satisfaction"
   ]
  },
  {
   "cell_type": "markdown",
   "metadata": {},
   "source": [
    "## Methodology"
   ]
  },
  {
   "cell_type": "markdown",
   "metadata": {},
   "source": [
    "Our primary objective is to get insights into the typical profile of an open source developer. We have the Stack Overflow survey data for year 2019, which gives \"Open Source\" data in a categorical variable (radio button selection), with the following options:\n",
    "\n",
    "* Once a month or more often\n",
    "* Less than once a month but more than once per year\n",
    "* Less than once per year\n",
    "* Never\n",
    "\n",
    "We would like to see how it correlates with other categorical data like Operating System that they use (do Linux users contribute more than Windows users?), Salary (in categorical bins), Career satisfaction, etc.\n",
    "\n",
    "The best way to extract any correlations between two categorical variables is by forming a contingency table between the two variables (cross tabulation, or crosstab). Pandas provides a convenient function for this: `pd.crosstab` which is used for all the analysis in this article. "
   ]
  },
  {
   "cell_type": "markdown",
   "metadata": {},
   "source": [
    "## Step 1 - Load data for analysis"
   ]
  },
  {
   "cell_type": "code",
   "execution_count": 1,
   "metadata": {},
   "outputs": [],
   "source": [
    "# Import packages\n",
    "import numpy as np\n",
    "import pandas as pd\n",
    "import matplotlib.pyplot as plt\n",
    "%matplotlib inline"
   ]
  },
  {
   "cell_type": "markdown",
   "metadata": {},
   "source": [
    "Load the survey data and sample the first few rows"
   ]
  },
  {
   "cell_type": "code",
   "execution_count": 2,
   "metadata": {},
   "outputs": [
    {
     "data": {
      "text/html": [
       "<div>\n",
       "<style scoped>\n",
       "    .dataframe tbody tr th:only-of-type {\n",
       "        vertical-align: middle;\n",
       "    }\n",
       "\n",
       "    .dataframe tbody tr th {\n",
       "        vertical-align: top;\n",
       "    }\n",
       "\n",
       "    .dataframe thead th {\n",
       "        text-align: right;\n",
       "    }\n",
       "</style>\n",
       "<table border=\"1\" class=\"dataframe\">\n",
       "  <thead>\n",
       "    <tr style=\"text-align: right;\">\n",
       "      <th></th>\n",
       "      <th>Respondent</th>\n",
       "      <th>MainBranch</th>\n",
       "      <th>Hobbyist</th>\n",
       "      <th>OpenSourcer</th>\n",
       "      <th>OpenSource</th>\n",
       "      <th>Employment</th>\n",
       "      <th>Country</th>\n",
       "      <th>Student</th>\n",
       "      <th>EdLevel</th>\n",
       "      <th>UndergradMajor</th>\n",
       "      <th>...</th>\n",
       "      <th>WelcomeChange</th>\n",
       "      <th>SONewContent</th>\n",
       "      <th>Age</th>\n",
       "      <th>Gender</th>\n",
       "      <th>Trans</th>\n",
       "      <th>Sexuality</th>\n",
       "      <th>Ethnicity</th>\n",
       "      <th>Dependents</th>\n",
       "      <th>SurveyLength</th>\n",
       "      <th>SurveyEase</th>\n",
       "    </tr>\n",
       "  </thead>\n",
       "  <tbody>\n",
       "    <tr>\n",
       "      <th>0</th>\n",
       "      <td>1</td>\n",
       "      <td>I am a student who is learning to code</td>\n",
       "      <td>Yes</td>\n",
       "      <td>Never</td>\n",
       "      <td>The quality of OSS and closed source software ...</td>\n",
       "      <td>Not employed, and not looking for work</td>\n",
       "      <td>United Kingdom</td>\n",
       "      <td>No</td>\n",
       "      <td>Primary/elementary school</td>\n",
       "      <td>NaN</td>\n",
       "      <td>...</td>\n",
       "      <td>Just as welcome now as I felt last year</td>\n",
       "      <td>Tech articles written by other developers;Indu...</td>\n",
       "      <td>14.0</td>\n",
       "      <td>Man</td>\n",
       "      <td>No</td>\n",
       "      <td>Straight / Heterosexual</td>\n",
       "      <td>NaN</td>\n",
       "      <td>No</td>\n",
       "      <td>Appropriate in length</td>\n",
       "      <td>Neither easy nor difficult</td>\n",
       "    </tr>\n",
       "    <tr>\n",
       "      <th>1</th>\n",
       "      <td>2</td>\n",
       "      <td>I am a student who is learning to code</td>\n",
       "      <td>No</td>\n",
       "      <td>Less than once per year</td>\n",
       "      <td>The quality of OSS and closed source software ...</td>\n",
       "      <td>Not employed, but looking for work</td>\n",
       "      <td>Bosnia and Herzegovina</td>\n",
       "      <td>Yes, full-time</td>\n",
       "      <td>Secondary school (e.g. American high school, G...</td>\n",
       "      <td>NaN</td>\n",
       "      <td>...</td>\n",
       "      <td>Just as welcome now as I felt last year</td>\n",
       "      <td>Tech articles written by other developers;Indu...</td>\n",
       "      <td>19.0</td>\n",
       "      <td>Man</td>\n",
       "      <td>No</td>\n",
       "      <td>Straight / Heterosexual</td>\n",
       "      <td>NaN</td>\n",
       "      <td>No</td>\n",
       "      <td>Appropriate in length</td>\n",
       "      <td>Neither easy nor difficult</td>\n",
       "    </tr>\n",
       "    <tr>\n",
       "      <th>2</th>\n",
       "      <td>3</td>\n",
       "      <td>I am not primarily a developer, but I write co...</td>\n",
       "      <td>Yes</td>\n",
       "      <td>Never</td>\n",
       "      <td>The quality of OSS and closed source software ...</td>\n",
       "      <td>Employed full-time</td>\n",
       "      <td>Thailand</td>\n",
       "      <td>No</td>\n",
       "      <td>Bachelor’s degree (BA, BS, B.Eng., etc.)</td>\n",
       "      <td>Web development or web design</td>\n",
       "      <td>...</td>\n",
       "      <td>Just as welcome now as I felt last year</td>\n",
       "      <td>Tech meetups or events in your area;Courses on...</td>\n",
       "      <td>28.0</td>\n",
       "      <td>Man</td>\n",
       "      <td>No</td>\n",
       "      <td>Straight / Heterosexual</td>\n",
       "      <td>NaN</td>\n",
       "      <td>Yes</td>\n",
       "      <td>Appropriate in length</td>\n",
       "      <td>Neither easy nor difficult</td>\n",
       "    </tr>\n",
       "    <tr>\n",
       "      <th>3</th>\n",
       "      <td>4</td>\n",
       "      <td>I am a developer by profession</td>\n",
       "      <td>No</td>\n",
       "      <td>Never</td>\n",
       "      <td>The quality of OSS and closed source software ...</td>\n",
       "      <td>Employed full-time</td>\n",
       "      <td>United States</td>\n",
       "      <td>No</td>\n",
       "      <td>Bachelor’s degree (BA, BS, B.Eng., etc.)</td>\n",
       "      <td>Computer science, computer engineering, or sof...</td>\n",
       "      <td>...</td>\n",
       "      <td>Just as welcome now as I felt last year</td>\n",
       "      <td>Tech articles written by other developers;Indu...</td>\n",
       "      <td>22.0</td>\n",
       "      <td>Man</td>\n",
       "      <td>No</td>\n",
       "      <td>Straight / Heterosexual</td>\n",
       "      <td>White or of European descent</td>\n",
       "      <td>No</td>\n",
       "      <td>Appropriate in length</td>\n",
       "      <td>Easy</td>\n",
       "    </tr>\n",
       "    <tr>\n",
       "      <th>4</th>\n",
       "      <td>5</td>\n",
       "      <td>I am a developer by profession</td>\n",
       "      <td>Yes</td>\n",
       "      <td>Once a month or more often</td>\n",
       "      <td>OSS is, on average, of HIGHER quality than pro...</td>\n",
       "      <td>Employed full-time</td>\n",
       "      <td>Ukraine</td>\n",
       "      <td>No</td>\n",
       "      <td>Bachelor’s degree (BA, BS, B.Eng., etc.)</td>\n",
       "      <td>Computer science, computer engineering, or sof...</td>\n",
       "      <td>...</td>\n",
       "      <td>Just as welcome now as I felt last year</td>\n",
       "      <td>Tech meetups or events in your area;Courses on...</td>\n",
       "      <td>30.0</td>\n",
       "      <td>Man</td>\n",
       "      <td>No</td>\n",
       "      <td>Straight / Heterosexual</td>\n",
       "      <td>White or of European descent;Multiracial</td>\n",
       "      <td>No</td>\n",
       "      <td>Appropriate in length</td>\n",
       "      <td>Easy</td>\n",
       "    </tr>\n",
       "  </tbody>\n",
       "</table>\n",
       "<p>5 rows × 85 columns</p>\n",
       "</div>"
      ],
      "text/plain": [
       "   Respondent                                         MainBranch Hobbyist  \\\n",
       "0           1             I am a student who is learning to code      Yes   \n",
       "1           2             I am a student who is learning to code       No   \n",
       "2           3  I am not primarily a developer, but I write co...      Yes   \n",
       "3           4                     I am a developer by profession       No   \n",
       "4           5                     I am a developer by profession      Yes   \n",
       "\n",
       "                  OpenSourcer  \\\n",
       "0                       Never   \n",
       "1     Less than once per year   \n",
       "2                       Never   \n",
       "3                       Never   \n",
       "4  Once a month or more often   \n",
       "\n",
       "                                          OpenSource  \\\n",
       "0  The quality of OSS and closed source software ...   \n",
       "1  The quality of OSS and closed source software ...   \n",
       "2  The quality of OSS and closed source software ...   \n",
       "3  The quality of OSS and closed source software ...   \n",
       "4  OSS is, on average, of HIGHER quality than pro...   \n",
       "\n",
       "                               Employment                 Country  \\\n",
       "0  Not employed, and not looking for work          United Kingdom   \n",
       "1      Not employed, but looking for work  Bosnia and Herzegovina   \n",
       "2                      Employed full-time                Thailand   \n",
       "3                      Employed full-time           United States   \n",
       "4                      Employed full-time                 Ukraine   \n",
       "\n",
       "          Student                                            EdLevel  \\\n",
       "0              No                          Primary/elementary school   \n",
       "1  Yes, full-time  Secondary school (e.g. American high school, G...   \n",
       "2              No           Bachelor’s degree (BA, BS, B.Eng., etc.)   \n",
       "3              No           Bachelor’s degree (BA, BS, B.Eng., etc.)   \n",
       "4              No           Bachelor’s degree (BA, BS, B.Eng., etc.)   \n",
       "\n",
       "                                      UndergradMajor  ...  \\\n",
       "0                                                NaN  ...   \n",
       "1                                                NaN  ...   \n",
       "2                      Web development or web design  ...   \n",
       "3  Computer science, computer engineering, or sof...  ...   \n",
       "4  Computer science, computer engineering, or sof...  ...   \n",
       "\n",
       "                             WelcomeChange  \\\n",
       "0  Just as welcome now as I felt last year   \n",
       "1  Just as welcome now as I felt last year   \n",
       "2  Just as welcome now as I felt last year   \n",
       "3  Just as welcome now as I felt last year   \n",
       "4  Just as welcome now as I felt last year   \n",
       "\n",
       "                                        SONewContent   Age Gender Trans  \\\n",
       "0  Tech articles written by other developers;Indu...  14.0    Man    No   \n",
       "1  Tech articles written by other developers;Indu...  19.0    Man    No   \n",
       "2  Tech meetups or events in your area;Courses on...  28.0    Man    No   \n",
       "3  Tech articles written by other developers;Indu...  22.0    Man    No   \n",
       "4  Tech meetups or events in your area;Courses on...  30.0    Man    No   \n",
       "\n",
       "                 Sexuality                                 Ethnicity  \\\n",
       "0  Straight / Heterosexual                                       NaN   \n",
       "1  Straight / Heterosexual                                       NaN   \n",
       "2  Straight / Heterosexual                                       NaN   \n",
       "3  Straight / Heterosexual              White or of European descent   \n",
       "4  Straight / Heterosexual  White or of European descent;Multiracial   \n",
       "\n",
       "  Dependents           SurveyLength                  SurveyEase  \n",
       "0         No  Appropriate in length  Neither easy nor difficult  \n",
       "1         No  Appropriate in length  Neither easy nor difficult  \n",
       "2        Yes  Appropriate in length  Neither easy nor difficult  \n",
       "3         No  Appropriate in length                        Easy  \n",
       "4         No  Appropriate in length                        Easy  \n",
       "\n",
       "[5 rows x 85 columns]"
      ]
     },
     "execution_count": 2,
     "metadata": {},
     "output_type": "execute_result"
    }
   ],
   "source": [
    "# Load the 2019 developer survey data\n",
    "survey_2019 = pd.read_csv('data/2019.csv')\n",
    "survey_2019.head()"
   ]
  },
  {
   "cell_type": "code",
   "execution_count": 3,
   "metadata": {},
   "outputs": [
    {
     "data": {
      "text/plain": [
       "(88883, 85)"
      ]
     },
     "execution_count": 3,
     "metadata": {},
     "output_type": "execute_result"
    }
   ],
   "source": [
    "# Find the number of data points\n",
    "survey_2019.shape"
   ]
  },
  {
   "cell_type": "markdown",
   "metadata": {},
   "source": [
    "Conveniently for us, the `OpenSourcer` column is available. The survey dataset also has responses from over 88,000 developers from all over the world, giving us enough data to identify trends, if any.\n",
    "\n",
    "Let's start by analyzing the options for open source contributions in the survey questionnaire."
   ]
  },
  {
   "cell_type": "code",
   "execution_count": 4,
   "metadata": {
    "scrolled": true
   },
   "outputs": [
    {
     "data": {
      "text/plain": [
       "Never                                                 32295\n",
       "Less than once per year                               24972\n",
       "Less than once a month but more than once per year    20561\n",
       "Once a month or more often                            11055\n",
       "Name: OpenSourcer, dtype: int64"
      ]
     },
     "execution_count": 4,
     "metadata": {},
     "output_type": "execute_result"
    }
   ],
   "source": [
    "# Let's look at high level numbers for users contributing to Open Source\n",
    "survey_2019[\"OpenSourcer\"].value_counts()"
   ]
  },
  {
   "cell_type": "markdown",
   "metadata": {},
   "source": [
    "This looks interesting - nearly two-thirds of users have contributed to open source at least once."
   ]
  },
  {
   "cell_type": "markdown",
   "metadata": {},
   "source": [
    "## Step 2 - Analyze data\n",
    "\n",
    "As mentioned in the methodology above, we will now use `pd.crosstab` function after required pre-processing of categorical variables to find the correlations between them."
   ]
  },
  {
   "cell_type": "markdown",
   "metadata": {},
   "source": [
    "### Open Sourcers by Operating System\n",
    "\n",
    "Let's start our analysis at the very basic level: Do open source contributors use Linux more than Windows? Where does MacOS stand, given the fact that we see so many Macbook users in all the tech conferences and youtube videos.\n",
    "\n",
    "Let's look at the total number of users using these operating systems:"
   ]
  },
  {
   "cell_type": "code",
   "execution_count": 5,
   "metadata": {},
   "outputs": [
    {
     "data": {
      "text/html": [
       "<div>\n",
       "<style scoped>\n",
       "    .dataframe tbody tr th:only-of-type {\n",
       "        vertical-align: middle;\n",
       "    }\n",
       "\n",
       "    .dataframe tbody tr th {\n",
       "        vertical-align: top;\n",
       "    }\n",
       "\n",
       "    .dataframe thead th {\n",
       "        text-align: right;\n",
       "    }\n",
       "</style>\n",
       "<table border=\"1\" class=\"dataframe\">\n",
       "  <thead>\n",
       "    <tr style=\"text-align: right;\">\n",
       "      <th></th>\n",
       "      <th>OpSys</th>\n",
       "    </tr>\n",
       "  </thead>\n",
       "  <tbody>\n",
       "    <tr>\n",
       "      <th>Windows</th>\n",
       "      <td>41714</td>\n",
       "    </tr>\n",
       "    <tr>\n",
       "      <th>MacOS</th>\n",
       "      <td>23541</td>\n",
       "    </tr>\n",
       "    <tr>\n",
       "      <th>Linux-based</th>\n",
       "      <td>22472</td>\n",
       "    </tr>\n",
       "    <tr>\n",
       "      <th>BSD</th>\n",
       "      <td>124</td>\n",
       "    </tr>\n",
       "  </tbody>\n",
       "</table>\n",
       "</div>"
      ],
      "text/plain": [
       "             OpSys\n",
       "Windows      41714\n",
       "MacOS        23541\n",
       "Linux-based  22472\n",
       "BSD            124"
      ]
     },
     "execution_count": 5,
     "metadata": {},
     "output_type": "execute_result"
    }
   ],
   "source": [
    "pd.DataFrame(survey_2019[\"OpSys\"].value_counts())"
   ]
  },
  {
   "cell_type": "markdown",
   "metadata": {},
   "source": [
    "As expected, we see a lot of developers who use Windows for their work. While this seems large, we can already identify a pattern here: More developers actually prefer MacOS or Linux compared to the overall market share of these operating systems.\n",
    "\n",
    "Source: https://gs.statcounter.com/os-market-share/desktop/worldwide\n",
    "\n",
    "From publicly available statistics, we see that over 80% of computer users tend to get a Windows computer. This is also reflected in the sales statistics - most companies selling computer hardware bundle Windows along with the laptop or desktop. As MacOS comes bundled with Apple computers, the only way to be on MacOS platform is by getting an Apple computer, which has a 16% market share as per the webpage linked above.\n",
    "\n",
    "Linux users mostly get a Windows laptop and dual boot into Linux. The other option for a Linux user is to build a desktop on their own. These are also the power users who understand technology much better than the average user and therefore they can get things done that a regular computer user cannot do.\n",
    "\n",
    "Given these facts, especially the fact that Windows has a market share of over 75%, it is interesting to see that we have an equal number of Linux and MacOS users and taken together, they outnumber the Windows users in this developer survey."
   ]
  },
  {
   "cell_type": "markdown",
   "metadata": {},
   "source": [
    "To get the number of users within a given group who also contribute to OpenSource, we can use `value_counts()` function as follows:"
   ]
  },
  {
   "cell_type": "code",
   "execution_count": 6,
   "metadata": {},
   "outputs": [
    {
     "data": {
      "text/plain": [
       "Less than once per year                               6283\n",
       "Less than once a month but more than once per year    6159\n",
       "Never                                                 6045\n",
       "Once a month or more often                            3985\n",
       "Name: OpenSourcer, dtype: int64"
      ]
     },
     "execution_count": 6,
     "metadata": {},
     "output_type": "execute_result"
    }
   ],
   "source": [
    "# Let's take a subset of data frame - only those rows corresponding to Linux users, and then look at summary of Open source contributors\n",
    "survey_2019[survey_2019[\"OpSys\"] == \"Linux-based\"][\"OpenSourcer\"].value_counts()"
   ]
  },
  {
   "cell_type": "markdown",
   "metadata": {},
   "source": [
    "We have the numbers for Linux users now, but it will lead to a tedious amount of work to get these numbers for all 3 operating systems - Linux, MacOS and Windows, and get these numbers into a dataframe for further analysis. Luckily for us, Pandas provides a convenient method to extract the relationship between two categorical values - `pd.crosstab`.\n",
    "\n",
    "There is still one problem we need to solve: The data for `OpenSourcer` column has row labels that does not make sense when sorted alphabetically. For these values, \"Never\" is in one extreme, while \"Once a month or more often\" is on the other extreme. We will also prefer to sort these values (rows) in the correct logical order (and not alphabetically)."
   ]
  },
  {
   "cell_type": "code",
   "execution_count": 7,
   "metadata": {},
   "outputs": [],
   "source": [
    "# We do not want the rows to be arranged in alphabetical order.\n",
    "# This is the order in which we want the rows to appear\n",
    "open_sourcer_row_order = [\"Once a month or more often\",\n",
    "                          \"Less than once a month but more than once per year\",\n",
    "                          \"Less than once per year\",\n",
    "                          \"Never\"]"
   ]
  },
  {
   "cell_type": "markdown",
   "metadata": {},
   "source": [
    "Having defined the order in which we want these values to appear, let's proceed with the crosstab analysis and see how the data looks like."
   ]
  },
  {
   "cell_type": "code",
   "execution_count": 8,
   "metadata": {},
   "outputs": [
    {
     "data": {
      "text/html": [
       "<div>\n",
       "<style scoped>\n",
       "    .dataframe tbody tr th:only-of-type {\n",
       "        vertical-align: middle;\n",
       "    }\n",
       "\n",
       "    .dataframe tbody tr th {\n",
       "        vertical-align: top;\n",
       "    }\n",
       "\n",
       "    .dataframe thead th {\n",
       "        text-align: right;\n",
       "    }\n",
       "</style>\n",
       "<table border=\"1\" class=\"dataframe\">\n",
       "  <thead>\n",
       "    <tr style=\"text-align: right;\">\n",
       "      <th>OpSys</th>\n",
       "      <th>BSD</th>\n",
       "      <th>Linux-based</th>\n",
       "      <th>MacOS</th>\n",
       "      <th>Windows</th>\n",
       "    </tr>\n",
       "    <tr>\n",
       "      <th>OpenSourcer</th>\n",
       "      <th></th>\n",
       "      <th></th>\n",
       "      <th></th>\n",
       "      <th></th>\n",
       "    </tr>\n",
       "  </thead>\n",
       "  <tbody>\n",
       "    <tr>\n",
       "      <th>Once a month or more often</th>\n",
       "      <td>31</td>\n",
       "      <td>3985</td>\n",
       "      <td>3058</td>\n",
       "      <td>3813</td>\n",
       "    </tr>\n",
       "    <tr>\n",
       "      <th>Less than once per month</th>\n",
       "      <td>32</td>\n",
       "      <td>6159</td>\n",
       "      <td>6443</td>\n",
       "      <td>7756</td>\n",
       "    </tr>\n",
       "    <tr>\n",
       "      <th>Less than once per year</th>\n",
       "      <td>36</td>\n",
       "      <td>6283</td>\n",
       "      <td>7062</td>\n",
       "      <td>11352</td>\n",
       "    </tr>\n",
       "    <tr>\n",
       "      <th>Never</th>\n",
       "      <td>25</td>\n",
       "      <td>6045</td>\n",
       "      <td>6978</td>\n",
       "      <td>18793</td>\n",
       "    </tr>\n",
       "  </tbody>\n",
       "</table>\n",
       "</div>"
      ],
      "text/plain": [
       "OpSys                       BSD  Linux-based  MacOS  Windows\n",
       "OpenSourcer                                                 \n",
       "Once a month or more often   31         3985   3058     3813\n",
       "Less than once per month     32         6159   6443     7756\n",
       "Less than once per year      36         6283   7062    11352\n",
       "Never                        25         6045   6978    18793"
      ]
     },
     "execution_count": 8,
     "metadata": {},
     "output_type": "execute_result"
    }
   ],
   "source": [
    "opsys_opensourcer = pd.crosstab(survey_2019[\"OpenSourcer\"], survey_2019[\"OpSys\"]).reindex(open_sourcer_row_order)\n",
    "\n",
    "# One of the row indexes is very long and therefore not showing up well in graphs.\n",
    "# Let's rename it to keep it simple\n",
    "opsys_opensourcer = opsys_opensourcer.rename(\n",
    "    index={\"Less than once a month but more than once per year\": \"Less than once per month\"})\n",
    "\n",
    "\n",
    "opsys_opensourcer"
   ]
  },
  {
   "cell_type": "markdown",
   "metadata": {},
   "source": [
    "We can't see much yet at the moment other than the fact that there are more open source contributors using Linux in absolute numbers than Windows users, even though there are twice as many developers using Windows.\n",
    "\n",
    "It will be great if we can have a percentage of Windows or Linux or MacOS users in each of these rows."
   ]
  },
  {
   "cell_type": "code",
   "execution_count": 9,
   "metadata": {
    "scrolled": true
   },
   "outputs": [
    {
     "data": {
      "text/html": [
       "<div>\n",
       "<style scoped>\n",
       "    .dataframe tbody tr th:only-of-type {\n",
       "        vertical-align: middle;\n",
       "    }\n",
       "\n",
       "    .dataframe tbody tr th {\n",
       "        vertical-align: top;\n",
       "    }\n",
       "\n",
       "    .dataframe thead th {\n",
       "        text-align: right;\n",
       "    }\n",
       "</style>\n",
       "<table border=\"1\" class=\"dataframe\">\n",
       "  <thead>\n",
       "    <tr style=\"text-align: right;\">\n",
       "      <th>OpSys</th>\n",
       "      <th>BSD</th>\n",
       "      <th>Linux-based</th>\n",
       "      <th>MacOS</th>\n",
       "      <th>Windows</th>\n",
       "    </tr>\n",
       "    <tr>\n",
       "      <th>OpenSourcer</th>\n",
       "      <th></th>\n",
       "      <th></th>\n",
       "      <th></th>\n",
       "      <th></th>\n",
       "    </tr>\n",
       "  </thead>\n",
       "  <tbody>\n",
       "    <tr>\n",
       "      <th>Once a month or more often</th>\n",
       "      <td>0.28</td>\n",
       "      <td>36.60</td>\n",
       "      <td>28.09</td>\n",
       "      <td>35.02</td>\n",
       "    </tr>\n",
       "    <tr>\n",
       "      <th>Less than once per month</th>\n",
       "      <td>0.16</td>\n",
       "      <td>30.21</td>\n",
       "      <td>31.60</td>\n",
       "      <td>38.04</td>\n",
       "    </tr>\n",
       "    <tr>\n",
       "      <th>Less than once per year</th>\n",
       "      <td>0.15</td>\n",
       "      <td>25.40</td>\n",
       "      <td>28.55</td>\n",
       "      <td>45.90</td>\n",
       "    </tr>\n",
       "    <tr>\n",
       "      <th>Never</th>\n",
       "      <td>0.08</td>\n",
       "      <td>18.98</td>\n",
       "      <td>21.92</td>\n",
       "      <td>59.02</td>\n",
       "    </tr>\n",
       "  </tbody>\n",
       "</table>\n",
       "</div>"
      ],
      "text/plain": [
       "OpSys                        BSD  Linux-based  MacOS  Windows\n",
       "OpenSourcer                                                  \n",
       "Once a month or more often  0.28        36.60  28.09    35.02\n",
       "Less than once per month    0.16        30.21  31.60    38.04\n",
       "Less than once per year     0.15        25.40  28.55    45.90\n",
       "Never                       0.08        18.98  21.92    59.02"
      ]
     },
     "execution_count": 9,
     "metadata": {},
     "output_type": "execute_result"
    }
   ],
   "source": [
    "# Find the total number of users in each row and use it to find percentage for each operating system\n",
    "opsys_opensourcer_percent = opsys_opensourcer.div(opsys_opensourcer.sum(axis=1), axis=0).mul(100).round(2)\n",
    "opsys_opensourcer_percent"
   ]
  },
  {
   "cell_type": "markdown",
   "metadata": {},
   "source": [
    "In the table above, each of the rows sum up to 100%.\n",
    "\n",
    "We can see a clear pattern here: more frequent open source contributors are more likely to use Linux-based (36%) or MacOS (28%) than Windows. This is significant in the light of market share enjoyed by Windows computers (75%) based on sales figures and general usage statistics.\n",
    "\n",
    "Considering that open source contributors also are considered to be the ones with advanced knowledge of software and tools, it can be inferred based on these numbers that Linux or MacOS is the preferred choice of good developers.\n",
    "\n",
    "Another way to look at this data is by plotting a pie-chart for the two extreme categories - Linux and Windows. Let's try it now."
   ]
  },
  {
   "cell_type": "code",
   "execution_count": 10,
   "metadata": {},
   "outputs": [
    {
     "data": {
      "image/png": "[encoded data removed]",
      "text/plain": [
       "<Figure size 360x360 with 1 Axes>"
      ]
     },
     "metadata": {},
     "output_type": "display_data"
    }
   ],
   "source": [
    "opsys_opensourcer[\"Linux-based\"].plot.pie(figsize=(5, 5),\n",
    "                                          startangle=90,\n",
    "                                          legend=False,\n",
    "                                          counterclock=False);"
   ]
  },
  {
   "cell_type": "code",
   "execution_count": 11,
   "metadata": {},
   "outputs": [
    {
     "data": {
      "image/png": "[encoded data removed]",
      "text/plain": [
       "<Figure size 360x360 with 1 Axes>"
      ]
     },
     "metadata": {},
     "output_type": "display_data"
    }
   ],
   "source": [
    "opsys_opensourcer[\"Windows\"].plot.pie(figsize=(5, 5),\n",
    "                                      startangle=90,\n",
    "                                      legend=False,\n",
    "                                      counterclock=False);"
   ]
  },
  {
   "cell_type": "markdown",
   "metadata": {},
   "source": [
    "### Open Sourcers by salary\n",
    "\n",
    "A good number of articles do mention that developers who contribute to open source get the rewards indirectly via much faster career progression. There may be a lot of truth in this, but we now have an opportunity to test this with data.\n",
    "\n",
    "One proxy for career progression is salary. If open source contributers do see more opportunities, then they should also be getting higher salaries than average.\n",
    "\n",
    "Let's look at the salary ranges of open sourcers.\n",
    "\n",
    "Salary numbers are represented in USD in the `ConvertedComp` column."
   ]
  },
  {
   "cell_type": "code",
   "execution_count": 12,
   "metadata": {
    "scrolled": true
   },
   "outputs": [
    {
     "data": {
      "text/plain": [
       "count    5.582300e+04\n",
       "mean     1.271107e+05\n",
       "std      2.841523e+05\n",
       "min      0.000000e+00\n",
       "25%      2.577750e+04\n",
       "50%      5.728700e+04\n",
       "75%      1.000000e+05\n",
       "max      2.000000e+06\n",
       "Name: ConvertedComp, dtype: float64"
      ]
     },
     "execution_count": 12,
     "metadata": {},
     "output_type": "execute_result"
    }
   ],
   "source": [
    "survey_2019[\"ConvertedComp\"].describe()"
   ]
  },
  {
   "cell_type": "markdown",
   "metadata": {},
   "source": [
    "We can see the quartile markers already in the above analysis - the top 25% users get over 200k USD per annum while the bottom 25% users get 25k USD per annum or lower.\n",
    "\n",
    "Salary is reported as an absolute number, but it will be easier for us to convert it to a categorical variable for our analysis. We can do this easily by classifying users into 4 different buckets (quartiles).\n",
    "\n",
    "Pandas gives us a convenient function `pd.qcut` that introduces a new column based on an existing int or float column and splits into the number of buckets that we specify (4 in this case)."
   ]
  },
  {
   "cell_type": "code",
   "execution_count": 13,
   "metadata": {
    "scrolled": true
   },
   "outputs": [
    {
     "data": {
      "text/plain": [
       "(25777.5, 57287.0]       14265\n",
       "(-0.001, 25777.5]        13956\n",
       "(57287.0, 100000.0]      13825\n",
       "(100000.0, 2000000.0]    13777\n",
       "Name: SalaryCategory, dtype: int64"
      ]
     },
     "execution_count": 13,
     "metadata": {},
     "output_type": "execute_result"
    }
   ],
   "source": [
    "# Split the salary data into 4 equal buckets\n",
    "survey_2019[\"SalaryCategory\"] = pd.qcut(survey_2019[\"ConvertedComp\"], q=4)\n",
    "\n",
    "# Analyse the data that we have for salary buckets\n",
    "survey_2019[\"SalaryCategory\"].value_counts()"
   ]
  },
  {
   "cell_type": "markdown",
   "metadata": {},
   "source": [
    "Now that we have salary category as a categorical variable, we can proceed to analyze using a cross tabulation or `crosstab` with the open sourcer category."
   ]
  },
  {
   "cell_type": "code",
   "execution_count": 14,
   "metadata": {
    "scrolled": true
   },
   "outputs": [
    {
     "data": {
      "text/html": [
       "<div>\n",
       "<style scoped>\n",
       "    .dataframe tbody tr th:only-of-type {\n",
       "        vertical-align: middle;\n",
       "    }\n",
       "\n",
       "    .dataframe tbody tr th {\n",
       "        vertical-align: top;\n",
       "    }\n",
       "\n",
       "    .dataframe thead th {\n",
       "        text-align: right;\n",
       "    }\n",
       "</style>\n",
       "<table border=\"1\" class=\"dataframe\">\n",
       "  <thead>\n",
       "    <tr style=\"text-align: right;\">\n",
       "      <th>SalaryCategory</th>\n",
       "      <th>(-0.001, 25777.5]</th>\n",
       "      <th>(25777.5, 57287.0]</th>\n",
       "      <th>(57287.0, 100000.0]</th>\n",
       "      <th>(100000.0, 2000000.0]</th>\n",
       "    </tr>\n",
       "    <tr>\n",
       "      <th>OpenSourcer</th>\n",
       "      <th></th>\n",
       "      <th></th>\n",
       "      <th></th>\n",
       "      <th></th>\n",
       "    </tr>\n",
       "  </thead>\n",
       "  <tbody>\n",
       "    <tr>\n",
       "      <th>Once a month or more often</th>\n",
       "      <td>1626</td>\n",
       "      <td>1338</td>\n",
       "      <td>1573</td>\n",
       "      <td>1884</td>\n",
       "    </tr>\n",
       "    <tr>\n",
       "      <th>Less than once per month</th>\n",
       "      <td>3089</td>\n",
       "      <td>3401</td>\n",
       "      <td>3546</td>\n",
       "      <td>3637</td>\n",
       "    </tr>\n",
       "    <tr>\n",
       "      <th>Less than once per year</th>\n",
       "      <td>3915</td>\n",
       "      <td>4254</td>\n",
       "      <td>4201</td>\n",
       "      <td>4177</td>\n",
       "    </tr>\n",
       "    <tr>\n",
       "      <th>Never</th>\n",
       "      <td>5326</td>\n",
       "      <td>5272</td>\n",
       "      <td>4505</td>\n",
       "      <td>4079</td>\n",
       "    </tr>\n",
       "  </tbody>\n",
       "</table>\n",
       "</div>"
      ],
      "text/plain": [
       "SalaryCategory              (-0.001, 25777.5]  (25777.5, 57287.0]  \\\n",
       "OpenSourcer                                                         \n",
       "Once a month or more often               1626                1338   \n",
       "Less than once per month                 3089                3401   \n",
       "Less than once per year                  3915                4254   \n",
       "Never                                    5326                5272   \n",
       "\n",
       "SalaryCategory              (57287.0, 100000.0]  (100000.0, 2000000.0]  \n",
       "OpenSourcer                                                             \n",
       "Once a month or more often                 1573                   1884  \n",
       "Less than once per month                   3546                   3637  \n",
       "Less than once per year                    4201                   4177  \n",
       "Never                                      4505                   4079  "
      ]
     },
     "execution_count": 14,
     "metadata": {},
     "output_type": "execute_result"
    }
   ],
   "source": [
    "salary_opensourcer = pd.crosstab(survey_2019[\"OpenSourcer\"], survey_2019[\"SalaryCategory\"]).reindex(open_sourcer_row_order)\n",
    "\n",
    "# One of the row indexes is very long and therefore not showing up well in graphs.\n",
    "# Let's rename it to keep it simple\n",
    "salary_opensourcer = salary_opensourcer.rename(\n",
    "    index={\"Less than once a month but more than once per year\": \"Less than once per month\"})\n",
    "\n",
    "# View this cross tabulation data\n",
    "salary_opensourcer"
   ]
  },
  {
   "cell_type": "markdown",
   "metadata": {},
   "source": [
    "Let's also look at percentages to see if there is any interesting pattern. "
   ]
  },
  {
   "cell_type": "code",
   "execution_count": 15,
   "metadata": {},
   "outputs": [
    {
     "data": {
      "text/html": [
       "<div>\n",
       "<style scoped>\n",
       "    .dataframe tbody tr th:only-of-type {\n",
       "        vertical-align: middle;\n",
       "    }\n",
       "\n",
       "    .dataframe tbody tr th {\n",
       "        vertical-align: top;\n",
       "    }\n",
       "\n",
       "    .dataframe thead th {\n",
       "        text-align: right;\n",
       "    }\n",
       "</style>\n",
       "<table border=\"1\" class=\"dataframe\">\n",
       "  <thead>\n",
       "    <tr style=\"text-align: right;\">\n",
       "      <th>SalaryCategory</th>\n",
       "      <th>(-0.001, 25777.5]</th>\n",
       "      <th>(25777.5, 57287.0]</th>\n",
       "      <th>(57287.0, 100000.0]</th>\n",
       "      <th>(100000.0, 2000000.0]</th>\n",
       "    </tr>\n",
       "    <tr>\n",
       "      <th>OpenSourcer</th>\n",
       "      <th></th>\n",
       "      <th></th>\n",
       "      <th></th>\n",
       "      <th></th>\n",
       "    </tr>\n",
       "  </thead>\n",
       "  <tbody>\n",
       "    <tr>\n",
       "      <th>Once a month or more often</th>\n",
       "      <td>25.32</td>\n",
       "      <td>20.84</td>\n",
       "      <td>24.50</td>\n",
       "      <td>29.34</td>\n",
       "    </tr>\n",
       "    <tr>\n",
       "      <th>Less than once per month</th>\n",
       "      <td>22.59</td>\n",
       "      <td>24.87</td>\n",
       "      <td>25.93</td>\n",
       "      <td>26.60</td>\n",
       "    </tr>\n",
       "    <tr>\n",
       "      <th>Less than once per year</th>\n",
       "      <td>23.66</td>\n",
       "      <td>25.71</td>\n",
       "      <td>25.39</td>\n",
       "      <td>25.24</td>\n",
       "    </tr>\n",
       "    <tr>\n",
       "      <th>Never</th>\n",
       "      <td>27.77</td>\n",
       "      <td>27.48</td>\n",
       "      <td>23.49</td>\n",
       "      <td>21.26</td>\n",
       "    </tr>\n",
       "  </tbody>\n",
       "</table>\n",
       "</div>"
      ],
      "text/plain": [
       "SalaryCategory              (-0.001, 25777.5]  (25777.5, 57287.0]  \\\n",
       "OpenSourcer                                                         \n",
       "Once a month or more often              25.32               20.84   \n",
       "Less than once per month                22.59               24.87   \n",
       "Less than once per year                 23.66               25.71   \n",
       "Never                                   27.77               27.48   \n",
       "\n",
       "SalaryCategory              (57287.0, 100000.0]  (100000.0, 2000000.0]  \n",
       "OpenSourcer                                                             \n",
       "Once a month or more often                24.50                  29.34  \n",
       "Less than once per month                  25.93                  26.60  \n",
       "Less than once per year                   25.39                  25.24  \n",
       "Never                                     23.49                  21.26  "
      ]
     },
     "execution_count": 15,
     "metadata": {},
     "output_type": "execute_result"
    }
   ],
   "source": [
    "# Sum up the total in all rows and report percentages for every group of open source contributors\n",
    "salary_opensourcer.div(salary_opensourcer.sum(axis=1), axis=0).mul(100).round(2)"
   ]
  },
  {
   "cell_type": "markdown",
   "metadata": {},
   "source": [
    "In the table above, each row sums up to 100%.\n",
    "\n",
    "This data suggests that those contributing frequently to open source (once a month or more) have a 29% chance of being in the highest possible salary bucket, considerably higher compared to those who do not contribute to open source.\n",
    "\n",
    "While there may not be any direct causation like contributing to open source leading to higher salary, we can say with confidence that open source contributors are more skilled based on this data.\n",
    "\n",
    "There can be indirect causation - contributing to open source can increase the skill levels of a developer, thus pushing them to higher salary buckets."
   ]
  },
  {
   "cell_type": "markdown",
   "metadata": {},
   "source": [
    "### Open Sourcers by Job or Career Satisfaction\n",
    "\n",
    "Are developers likely to contribute to open source software when they are satisfied with their jobs or careers?\n",
    "\n",
    "Let's find out based on available data. We have both `CareerSat` and `JobSat` responses from the participants. Let's go with `CareerSat` as contributing to open source is a life long activity and it does not start or stop with one job.\n",
    "\n",
    "To get started, let's look at how career satisfaction is recorded:"
   ]
  },
  {
   "cell_type": "code",
   "execution_count": 16,
   "metadata": {},
   "outputs": [
    {
     "data": {
      "text/plain": [
       "Very satisfied                        29173\n",
       "Slightly satisfied                    25018\n",
       "Slightly dissatisfied                  7670\n",
       "Neither satisfied nor dissatisfied     7252\n",
       "Very dissatisfied                      3734\n",
       "Name: CareerSat, dtype: int64"
      ]
     },
     "execution_count": 16,
     "metadata": {},
     "output_type": "execute_result"
    }
   ],
   "source": [
    "survey_2019[\"CareerSat\"].value_counts()"
   ]
  },
  {
   "cell_type": "markdown",
   "metadata": {},
   "source": [
    "It is already a categorical variable. So let's proceed to directly do the cross tabulation.\n",
    "\n",
    "Here we need to rename a "
   ]
  },
  {
   "cell_type": "code",
   "execution_count": 17,
   "metadata": {
    "scrolled": false
   },
   "outputs": [
    {
     "data": {
      "text/html": [
       "<div>\n",
       "<style scoped>\n",
       "    .dataframe tbody tr th:only-of-type {\n",
       "        vertical-align: middle;\n",
       "    }\n",
       "\n",
       "    .dataframe tbody tr th {\n",
       "        vertical-align: top;\n",
       "    }\n",
       "\n",
       "    .dataframe thead th {\n",
       "        text-align: right;\n",
       "    }\n",
       "</style>\n",
       "<table border=\"1\" class=\"dataframe\">\n",
       "  <thead>\n",
       "    <tr style=\"text-align: right;\">\n",
       "      <th>CareerSat</th>\n",
       "      <th>Very dissatisfied</th>\n",
       "      <th>Slightly dissatisfied</th>\n",
       "      <th>Neutral</th>\n",
       "      <th>Slightly satisfied</th>\n",
       "      <th>Very satisfied</th>\n",
       "    </tr>\n",
       "    <tr>\n",
       "      <th>OpenSourcer</th>\n",
       "      <th></th>\n",
       "      <th></th>\n",
       "      <th></th>\n",
       "      <th></th>\n",
       "      <th></th>\n",
       "    </tr>\n",
       "  </thead>\n",
       "  <tbody>\n",
       "    <tr>\n",
       "      <th>Once a month or more often</th>\n",
       "      <td>447</td>\n",
       "      <td>712</td>\n",
       "      <td>799</td>\n",
       "      <td>2689</td>\n",
       "      <td>4119</td>\n",
       "    </tr>\n",
       "    <tr>\n",
       "      <th>Less than once per month</th>\n",
       "      <td>810</td>\n",
       "      <td>1630</td>\n",
       "      <td>1617</td>\n",
       "      <td>6049</td>\n",
       "      <td>7499</td>\n",
       "    </tr>\n",
       "    <tr>\n",
       "      <th>Less than once per year</th>\n",
       "      <td>1114</td>\n",
       "      <td>2304</td>\n",
       "      <td>2160</td>\n",
       "      <td>7439</td>\n",
       "      <td>8332</td>\n",
       "    </tr>\n",
       "    <tr>\n",
       "      <th>Never</th>\n",
       "      <td>1363</td>\n",
       "      <td>3024</td>\n",
       "      <td>2676</td>\n",
       "      <td>8841</td>\n",
       "      <td>9223</td>\n",
       "    </tr>\n",
       "  </tbody>\n",
       "</table>\n",
       "</div>"
      ],
      "text/plain": [
       "CareerSat                   Very dissatisfied  Slightly dissatisfied  Neutral  \\\n",
       "OpenSourcer                                                                     \n",
       "Once a month or more often                447                    712      799   \n",
       "Less than once per month                  810                   1630     1617   \n",
       "Less than once per year                  1114                   2304     2160   \n",
       "Never                                    1363                   3024     2676   \n",
       "\n",
       "CareerSat                   Slightly satisfied  Very satisfied  \n",
       "OpenSourcer                                                     \n",
       "Once a month or more often                2689            4119  \n",
       "Less than once per month                  6049            7499  \n",
       "Less than once per year                   7439            8332  \n",
       "Never                                     8841            9223  "
      ]
     },
     "execution_count": 17,
     "metadata": {},
     "output_type": "execute_result"
    }
   ],
   "source": [
    "careersat_opensourcer = pd.crosstab(survey_2019[\"OpenSourcer\"], survey_2019[\"CareerSat\"]).reindex(open_sourcer_row_order)\n",
    "\n",
    "column_order = [\"Very dissatisfied\",\n",
    "                \"Slightly dissatisfied\",\n",
    "                \"Neither satisfied nor dissatisfied\",\n",
    "                \"Slightly satisfied\",\n",
    "                \"Very satisfied\"]\n",
    "\n",
    "careersat_opensourcer = careersat_opensourcer[column_order]\n",
    "\n",
    "# One of the row indexes and one column header are very long and therefore not showing up well in tables.\n",
    "# Let's rename them to keep it simple\n",
    "careersat_opensourcer = careersat_opensourcer.rename(\n",
    "    index={\"Less than once a month but more than once per year\": \"Less than once per month\"},\n",
    "    columns={\"Neither satisfied nor dissatisfied\":\"Neutral\"}\n",
    ")\n",
    "\n",
    "careersat_opensourcer"
   ]
  },
  {
   "cell_type": "markdown",
   "metadata": {},
   "source": [
    "We cannot see much from this result as the number of people in each columns are very different. Let's get the percentage of people in each of these categories."
   ]
  },
  {
   "cell_type": "code",
   "execution_count": 18,
   "metadata": {},
   "outputs": [
    {
     "data": {
      "text/html": [
       "<div>\n",
       "<style scoped>\n",
       "    .dataframe tbody tr th:only-of-type {\n",
       "        vertical-align: middle;\n",
       "    }\n",
       "\n",
       "    .dataframe tbody tr th {\n",
       "        vertical-align: top;\n",
       "    }\n",
       "\n",
       "    .dataframe thead th {\n",
       "        text-align: right;\n",
       "    }\n",
       "</style>\n",
       "<table border=\"1\" class=\"dataframe\">\n",
       "  <thead>\n",
       "    <tr style=\"text-align: right;\">\n",
       "      <th>CareerSat</th>\n",
       "      <th>Very dissatisfied</th>\n",
       "      <th>Slightly dissatisfied</th>\n",
       "      <th>Neutral</th>\n",
       "      <th>Slightly satisfied</th>\n",
       "      <th>Very satisfied</th>\n",
       "    </tr>\n",
       "    <tr>\n",
       "      <th>OpenSourcer</th>\n",
       "      <th></th>\n",
       "      <th></th>\n",
       "      <th></th>\n",
       "      <th></th>\n",
       "      <th></th>\n",
       "    </tr>\n",
       "  </thead>\n",
       "  <tbody>\n",
       "    <tr>\n",
       "      <th>Once a month or more often</th>\n",
       "      <td>5.10</td>\n",
       "      <td>8.12</td>\n",
       "      <td>9.11</td>\n",
       "      <td>30.68</td>\n",
       "      <td>46.99</td>\n",
       "    </tr>\n",
       "    <tr>\n",
       "      <th>Less than once per month</th>\n",
       "      <td>4.60</td>\n",
       "      <td>9.26</td>\n",
       "      <td>9.18</td>\n",
       "      <td>34.36</td>\n",
       "      <td>42.60</td>\n",
       "    </tr>\n",
       "    <tr>\n",
       "      <th>Less than once per year</th>\n",
       "      <td>5.22</td>\n",
       "      <td>10.79</td>\n",
       "      <td>10.12</td>\n",
       "      <td>34.84</td>\n",
       "      <td>39.03</td>\n",
       "    </tr>\n",
       "    <tr>\n",
       "      <th>Never</th>\n",
       "      <td>5.42</td>\n",
       "      <td>12.03</td>\n",
       "      <td>10.65</td>\n",
       "      <td>35.19</td>\n",
       "      <td>36.71</td>\n",
       "    </tr>\n",
       "  </tbody>\n",
       "</table>\n",
       "</div>"
      ],
      "text/plain": [
       "CareerSat                   Very dissatisfied  Slightly dissatisfied  Neutral  \\\n",
       "OpenSourcer                                                                     \n",
       "Once a month or more often               5.10                   8.12     9.11   \n",
       "Less than once per month                 4.60                   9.26     9.18   \n",
       "Less than once per year                  5.22                  10.79    10.12   \n",
       "Never                                    5.42                  12.03    10.65   \n",
       "\n",
       "CareerSat                   Slightly satisfied  Very satisfied  \n",
       "OpenSourcer                                                     \n",
       "Once a month or more often               30.68           46.99  \n",
       "Less than once per month                 34.36           42.60  \n",
       "Less than once per year                  34.84           39.03  \n",
       "Never                                    35.19           36.71  "
      ]
     },
     "execution_count": 18,
     "metadata": {},
     "output_type": "execute_result"
    }
   ],
   "source": [
    "careersat_opensourcer.div(careersat_opensourcer.sum(axis=1), axis=0).mul(100).round(2)"
   ]
  },
  {
   "cell_type": "markdown",
   "metadata": {},
   "source": [
    "Like before, every row totals to 100% in the table above.\n",
    "\n",
    "We see a pattern here - those who contribute more often to open source are likely to report a higher career satisfaction (47%). This again could be caused because of the indirect causation mentioned earlier: contributing to open source increase skill levels, thus allowing them to do their jobs better and therefore ending up with higher satisfaction levels.\n",
    "\n",
    "The satisfaction numbers are lesser in the lower rows (people contributing lesser to open source), with the last category of user having only a 36.7% chance of reporting the highest career satisfaction."
   ]
  },
  {
   "cell_type": "markdown",
   "metadata": {},
   "source": [
    "## Conclusion\n",
    "\n",
    "We started this exercise with some assumptions based on what we have seen till now, expected to find patterns and did find some of the patterns however insignificant it might be.\n",
    "\n",
    "Here are some of the insights we got from the available data:\n",
    "1. Developers contributing to open source do prefer Linux or MacOS compared to Windows for their work computer\n",
    "2. Open source contributors are more likely to get higher salary\n",
    "3. Open source contributors report a higher career satisfaction"
   ]
  }
 ],
 "metadata": {
  "kernelspec": {
   "display_name": "Python 3",
   "language": "python",
   "name": "python3"
  },
  "language_info": {
   "codemirror_mode": {
    "name": "ipython",
    "version": 3
   },
   "file_extension": ".py",
   "mimetype": "text/x-python",
   "name": "python",
   "nbconvert_exporter": "python",
   "pygments_lexer": "ipython3",
   "version": "3.8.5"
  }
 },
 "nbformat": 4,
 "nbformat_minor": 4
}
